{
 "cells": [
  {
   "cell_type": "code",
   "execution_count": 14,
   "id": "a2c0f3aa-ccd2-49f7-ab11-9d7e66f015be",
   "metadata": {},
   "outputs": [],
   "source": [
    "import pandas as pd\n",
    "import json\n",
    "import os\n",
    "\n",
    "f1 = open(\"/home/x-chang713/Baby Project/0a58ef5a-9f01-49bc-9bb7-f13ab042b80f_noPII.json\")\n",
    "f2 = open(\"/home/x-chang713/Baby Project/0ab502fb-87e9-4764-8bc8-778da2e2bcfb_noPII.json\")\n",
    "f3 = open(\"/home/x-chang713/Baby Project/0be25f06-b139-424d-8f78-f945dd32f1c9_noPII.json\")\n",
    "\n",
    "js1 = json.load(f1)\n",
    "js2 = json.load(f2)\n",
    "js3 = json.load(f3)\n",
    "\n",
    "accounts = pd.json_normalize(js3, record_path = [\"AccountAllocations\", \"Accounts\"])[[\"Key\", \"Description\"]]"
   ]
  },
  {
   "cell_type": "code",
   "execution_count": 15,
   "id": "13b40257-a368-4c6e-9f8f-99efacc783bf",
   "metadata": {},
   "outputs": [
    {
     "data": {
      "text/html": [
       "<div>\n",
       "<style scoped>\n",
       "    .dataframe tbody tr th:only-of-type {\n",
       "        vertical-align: middle;\n",
       "    }\n",
       "\n",
       "    .dataframe tbody tr th {\n",
       "        vertical-align: top;\n",
       "    }\n",
       "\n",
       "    .dataframe thead th {\n",
       "        text-align: right;\n",
       "    }\n",
       "</style>\n",
       "<table border=\"1\" class=\"dataframe\">\n",
       "  <thead>\n",
       "    <tr style=\"text-align: right;\">\n",
       "      <th></th>\n",
       "      <th>Key</th>\n",
       "      <th>Description</th>\n",
       "    </tr>\n",
       "  </thead>\n",
       "  <tbody>\n",
       "    <tr>\n",
       "      <th>0</th>\n",
       "      <td>Fixed</td>\n",
       "      <td>Fixed</td>\n",
       "    </tr>\n",
       "    <tr>\n",
       "      <th>1</th>\n",
       "      <td>FixedLT</td>\n",
       "      <td>FixedLT</td>\n",
       "    </tr>\n",
       "    <tr>\n",
       "      <th>2</th>\n",
       "      <td>1YrA</td>\n",
       "      <td>1-Year Indexed Account</td>\n",
       "    </tr>\n",
       "    <tr>\n",
       "      <th>3</th>\n",
       "      <td>1YrD</td>\n",
       "      <td>1-Year No Cap Indexed Account</td>\n",
       "    </tr>\n",
       "    <tr>\n",
       "      <th>4</th>\n",
       "      <td>1YrF</td>\n",
       "      <td>1-Year High Cap Plus Indexed Account</td>\n",
       "    </tr>\n",
       "    <tr>\n",
       "      <th>5</th>\n",
       "      <td>Var</td>\n",
       "      <td>Variable Account</td>\n",
       "    </tr>\n",
       "  </tbody>\n",
       "</table>\n",
       "</div>"
      ],
      "text/plain": [
       "       Key                           Description\n",
       "0    Fixed                                 Fixed\n",
       "1  FixedLT                               FixedLT\n",
       "2     1YrA                1-Year Indexed Account\n",
       "3     1YrD         1-Year No Cap Indexed Account\n",
       "4     1YrF  1-Year High Cap Plus Indexed Account\n",
       "5      Var                      Variable Account"
      ]
     },
     "execution_count": 15,
     "metadata": {},
     "output_type": "execute_result"
    }
   ],
   "source": [
    "accounts"
   ]
  },
  {
   "cell_type": "code",
   "execution_count": 39,
   "id": "5761c93f-ccfc-4fa9-9bde-d066c68e5259",
   "metadata": {},
   "outputs": [],
   "source": [
    "allocations1 = pd.json_normalize(js1, record_path = [\"FundAllocationFuture\"])\n",
    "\n",
    "allocations2 = pd.json_normalize(js2, record_path = [\"FundAllocationFuture\"])\n",
    "\n",
    "allocations3 = pd.json_normalize(js3, record_path = [\"FundAllocationFuture\"])\n"
   ]
  },
  {
   "cell_type": "code",
   "execution_count": 40,
   "id": "935544c4-8f3a-4447-8b2f-71c784a7fac1",
   "metadata": {},
   "outputs": [
    {
     "data": {
      "text/html": [
       "<div>\n",
       "<style scoped>\n",
       "    .dataframe tbody tr th:only-of-type {\n",
       "        vertical-align: middle;\n",
       "    }\n",
       "\n",
       "    .dataframe tbody tr th {\n",
       "        vertical-align: top;\n",
       "    }\n",
       "\n",
       "    .dataframe thead th {\n",
       "        text-align: right;\n",
       "    }\n",
       "</style>\n",
       "<table border=\"1\" class=\"dataframe\">\n",
       "  <thead>\n",
       "    <tr style=\"text-align: right;\">\n",
       "      <th></th>\n",
       "      <th>Key</th>\n",
       "      <th>Name</th>\n",
       "      <th>Manager</th>\n",
       "      <th>Allocation</th>\n",
       "      <th>Type</th>\n",
       "      <th>Category</th>\n",
       "      <th>Group</th>\n",
       "      <th>InceptionDate</th>\n",
       "      <th>ManagementFees</th>\n",
       "      <th>OperatingExpenses</th>\n",
       "      <th>IFRCharge</th>\n",
       "      <th>AsOfDate</th>\n",
       "      <th>Asset</th>\n",
       "      <th>HistoricalData</th>\n",
       "    </tr>\n",
       "  </thead>\n",
       "  <tbody>\n",
       "    <tr>\n",
       "      <th>0</th>\n",
       "      <td>VNGMI</td>\n",
       "      <td>Vanguard VIF Mid Cap Index</td>\n",
       "      <td>Vanguard</td>\n",
       "      <td>100%</td>\n",
       "      <td>Variable</td>\n",
       "      <td>Domestic Equity</td>\n",
       "      <td>IFR Funds</td>\n",
       "      <td>1999-02-09</td>\n",
       "      <td>0.15</td>\n",
       "      <td>0.02</td>\n",
       "      <td>0.39%</td>\n",
       "      <td>2020-12-31</td>\n",
       "      <td>0.001301</td>\n",
       "      <td>[{'Year': '1999', 'RateOfReturn': '0'}, {'Year...</td>\n",
       "    </tr>\n",
       "  </tbody>\n",
       "</table>\n",
       "</div>"
      ],
      "text/plain": [
       "     Key                        Name   Manager Allocation      Type  \\\n",
       "0  VNGMI  Vanguard VIF Mid Cap Index  Vanguard       100%  Variable   \n",
       "\n",
       "          Category      Group InceptionDate  ManagementFees  \\\n",
       "0  Domestic Equity  IFR Funds    1999-02-09            0.15   \n",
       "\n",
       "   OperatingExpenses IFRCharge    AsOfDate     Asset  \\\n",
       "0               0.02     0.39%  2020-12-31  0.001301   \n",
       "\n",
       "                                      HistoricalData  \n",
       "0  [{'Year': '1999', 'RateOfReturn': '0'}, {'Year...  "
      ]
     },
     "execution_count": 40,
     "metadata": {},
     "output_type": "execute_result"
    }
   ],
   "source": [
    "allocations1"
   ]
  },
  {
   "cell_type": "code",
   "execution_count": 35,
   "id": "b4332fe9-5ef0-4392-aacc-29acdba5cddf",
   "metadata": {},
   "outputs": [
    {
     "data": {
      "text/html": [
       "<div>\n",
       "<style scoped>\n",
       "    .dataframe tbody tr th:only-of-type {\n",
       "        vertical-align: middle;\n",
       "    }\n",
       "\n",
       "    .dataframe tbody tr th {\n",
       "        vertical-align: top;\n",
       "    }\n",
       "\n",
       "    .dataframe thead th {\n",
       "        text-align: right;\n",
       "    }\n",
       "</style>\n",
       "<table border=\"1\" class=\"dataframe\">\n",
       "  <thead>\n",
       "    <tr style=\"text-align: right;\">\n",
       "      <th></th>\n",
       "      <th>Key</th>\n",
       "      <th>Name</th>\n",
       "      <th>Manager</th>\n",
       "      <th>Allocation</th>\n",
       "      <th>Type</th>\n",
       "      <th>Category</th>\n",
       "      <th>Group</th>\n",
       "      <th>InceptionDate</th>\n",
       "      <th>ManagementFees</th>\n",
       "      <th>OperatingExpenses</th>\n",
       "      <th>IFRCharge</th>\n",
       "      <th>AsOfDate</th>\n",
       "      <th>Asset</th>\n",
       "      <th>HistoricalData</th>\n",
       "    </tr>\n",
       "  </thead>\n",
       "  <tbody>\n",
       "    <tr>\n",
       "      <th>0</th>\n",
       "      <td>VNGMI</td>\n",
       "      <td>Vanguard VIF Mid Cap Index</td>\n",
       "      <td>Vanguard</td>\n",
       "      <td>100%</td>\n",
       "      <td>Variable</td>\n",
       "      <td>Domestic Equity</td>\n",
       "      <td>IFR Funds</td>\n",
       "      <td>1999-02-09</td>\n",
       "      <td>0.14</td>\n",
       "      <td>0.03</td>\n",
       "      <td>0.39%</td>\n",
       "      <td>2021-12-31</td>\n",
       "      <td>0.004232</td>\n",
       "      <td>[{'Year': '1999', 'RateOfReturn': '0'}, {'Year...</td>\n",
       "    </tr>\n",
       "  </tbody>\n",
       "</table>\n",
       "</div>"
      ],
      "text/plain": [
       "     Key                        Name   Manager Allocation      Type  \\\n",
       "0  VNGMI  Vanguard VIF Mid Cap Index  Vanguard       100%  Variable   \n",
       "\n",
       "          Category      Group InceptionDate  ManagementFees  \\\n",
       "0  Domestic Equity  IFR Funds    1999-02-09            0.14   \n",
       "\n",
       "   OperatingExpenses IFRCharge    AsOfDate     Asset  \\\n",
       "0               0.03     0.39%  2021-12-31  0.004232   \n",
       "\n",
       "                                      HistoricalData  \n",
       "0  [{'Year': '1999', 'RateOfReturn': '0'}, {'Year...  "
      ]
     },
     "execution_count": 35,
     "metadata": {},
     "output_type": "execute_result"
    }
   ],
   "source": [
    "allocations2"
   ]
  },
  {
   "cell_type": "code",
   "execution_count": 41,
   "id": "6eeaebc1-adc2-4498-9009-235c797ae186",
   "metadata": {},
   "outputs": [
    {
     "data": {
      "text/html": [
       "<div>\n",
       "<style scoped>\n",
       "    .dataframe tbody tr th:only-of-type {\n",
       "        vertical-align: middle;\n",
       "    }\n",
       "\n",
       "    .dataframe tbody tr th {\n",
       "        vertical-align: top;\n",
       "    }\n",
       "\n",
       "    .dataframe thead th {\n",
       "        text-align: right;\n",
       "    }\n",
       "</style>\n",
       "<table border=\"1\" class=\"dataframe\">\n",
       "  <thead>\n",
       "    <tr style=\"text-align: right;\">\n",
       "      <th></th>\n",
       "      <th>Key</th>\n",
       "      <th>Name</th>\n",
       "      <th>Manager</th>\n",
       "      <th>Allocation</th>\n",
       "      <th>Type</th>\n",
       "      <th>Category</th>\n",
       "      <th>Group</th>\n",
       "      <th>InceptionDate</th>\n",
       "      <th>ManagementFees</th>\n",
       "      <th>OperatingExpenses</th>\n",
       "      <th>IFRCharge</th>\n",
       "      <th>AsOfDate</th>\n",
       "      <th>Asset</th>\n",
       "      <th>HistoricalData</th>\n",
       "    </tr>\n",
       "  </thead>\n",
       "  <tbody>\n",
       "    <tr>\n",
       "      <th>0</th>\n",
       "      <td>VNGMI</td>\n",
       "      <td>Vanguard VIF Mid Cap Index</td>\n",
       "      <td>Vanguard</td>\n",
       "      <td>100%</td>\n",
       "      <td>Variable</td>\n",
       "      <td>Domestic Equity</td>\n",
       "      <td>IFR Funds</td>\n",
       "      <td>1999-02-09</td>\n",
       "      <td>0.15</td>\n",
       "      <td>0.02</td>\n",
       "      <td>0.39%</td>\n",
       "      <td>2020-12-31</td>\n",
       "      <td>0.001301</td>\n",
       "      <td>[{'Year': '1999', 'RateOfReturn': '0'}, {'Year...</td>\n",
       "    </tr>\n",
       "  </tbody>\n",
       "</table>\n",
       "</div>"
      ],
      "text/plain": [
       "     Key                        Name   Manager Allocation      Type  \\\n",
       "0  VNGMI  Vanguard VIF Mid Cap Index  Vanguard       100%  Variable   \n",
       "\n",
       "          Category      Group InceptionDate  ManagementFees  \\\n",
       "0  Domestic Equity  IFR Funds    1999-02-09            0.15   \n",
       "\n",
       "   OperatingExpenses IFRCharge    AsOfDate     Asset  \\\n",
       "0               0.02     0.39%  2020-12-31  0.001301   \n",
       "\n",
       "                                      HistoricalData  \n",
       "0  [{'Year': '1999', 'RateOfReturn': '0'}, {'Year...  "
      ]
     },
     "execution_count": 41,
     "metadata": {},
     "output_type": "execute_result"
    }
   ],
   "source": [
    "allocations3"
   ]
  },
  {
   "cell_type": "code",
   "execution_count": 52,
   "id": "5ee5b6ca-8da5-4ef9-bee3-70941cbbf1c0",
   "metadata": {},
   "outputs": [],
   "source": [
    "allocations_merged = pd.concat([allocations1, allocations2, allocations3])"
   ]
  },
  {
   "cell_type": "code",
   "execution_count": 54,
   "id": "b53913c0-9c1e-4fba-b3d7-0e9dc7ff8fcb",
   "metadata": {},
   "outputs": [
    {
     "data": {
      "text/plain": [
       "0    100%\n",
       "0    100%\n",
       "0    100%\n",
       "Name: Allocation, dtype: object"
      ]
     },
     "execution_count": 54,
     "metadata": {},
     "output_type": "execute_result"
    }
   ],
   "source": [
    "allocations_merged[\"Allocation\"]"
   ]
  },
  {
   "cell_type": "markdown",
   "id": "ed3a3c53-bdf4-492f-9c9f-546181c8ba1e",
   "metadata": {},
   "source": [
    "All 3 of the users have a 100% allocation in the Vanguard VIF Mid Cap Index."
   ]
  },
  {
   "cell_type": "code",
   "execution_count": 55,
   "id": "c91a78c0-cd25-4d37-bd05-6a993e581db3",
   "metadata": {},
   "outputs": [],
   "source": [
    "riders = pd.json_normalize(js1, record_path = [\"Riders\"])"
   ]
  },
  {
   "cell_type": "code",
   "execution_count": 56,
   "id": "f1ee8f6a-b1ea-4329-af09-f7f857a6a690",
   "metadata": {},
   "outputs": [
    {
     "data": {
      "text/html": [
       "<div>\n",
       "<style scoped>\n",
       "    .dataframe tbody tr th:only-of-type {\n",
       "        vertical-align: middle;\n",
       "    }\n",
       "\n",
       "    .dataframe tbody tr th {\n",
       "        vertical-align: top;\n",
       "    }\n",
       "\n",
       "    .dataframe thead th {\n",
       "        text-align: right;\n",
       "    }\n",
       "</style>\n",
       "<table border=\"1\" class=\"dataframe\">\n",
       "  <thead>\n",
       "    <tr style=\"text-align: right;\">\n",
       "      <th></th>\n",
       "      <th>Idx</th>\n",
       "      <th>Category</th>\n",
       "      <th>Name</th>\n",
       "      <th>Remark</th>\n",
       "    </tr>\n",
       "  </thead>\n",
       "  <tbody>\n",
       "    <tr>\n",
       "      <th>0</th>\n",
       "      <td>1</td>\n",
       "      <td>Automatic</td>\n",
       "      <td>Conversion Rider</td>\n",
       "      <td>NaN</td>\n",
       "    </tr>\n",
       "    <tr>\n",
       "      <th>1</th>\n",
       "      <td>2</td>\n",
       "      <td>Automatic</td>\n",
       "      <td>Minimum Indexed Benefit Rider</td>\n",
       "      <td>NaN</td>\n",
       "    </tr>\n",
       "    <tr>\n",
       "      <th>2</th>\n",
       "      <td>3</td>\n",
       "      <td>Automatic</td>\n",
       "      <td>Overloan Protection 3 Rider</td>\n",
       "      <td>NaN</td>\n",
       "    </tr>\n",
       "    <tr>\n",
       "      <th>3</th>\n",
       "      <td>4</td>\n",
       "      <td>Optional</td>\n",
       "      <td>Accelerated Death Benefit Rider for Chronic an...</td>\n",
       "      <td>Check Opt Out</td>\n",
       "    </tr>\n",
       "    <tr>\n",
       "      <th>4</th>\n",
       "      <td>5</td>\n",
       "      <td>Automatic</td>\n",
       "      <td>No Lapse Guarantee Rider (Short-Term No Lapse ...</td>\n",
       "      <td>NaN</td>\n",
       "    </tr>\n",
       "    <tr>\n",
       "      <th>5</th>\n",
       "      <td>6</td>\n",
       "      <td>Optional</td>\n",
       "      <td>Accelerated Death Benefit Rider for Terminal I...</td>\n",
       "      <td>Added</td>\n",
       "    </tr>\n",
       "  </tbody>\n",
       "</table>\n",
       "</div>"
      ],
      "text/plain": [
       "   Idx   Category                                               Name  \\\n",
       "0    1  Automatic                                   Conversion Rider   \n",
       "1    2  Automatic                      Minimum Indexed Benefit Rider   \n",
       "2    3  Automatic                        Overloan Protection 3 Rider   \n",
       "3    4   Optional  Accelerated Death Benefit Rider for Chronic an...   \n",
       "4    5  Automatic  No Lapse Guarantee Rider (Short-Term No Lapse ...   \n",
       "5    6   Optional  Accelerated Death Benefit Rider for Terminal I...   \n",
       "\n",
       "          Remark  \n",
       "0            NaN  \n",
       "1            NaN  \n",
       "2            NaN  \n",
       "3  Check Opt Out  \n",
       "4            NaN  \n",
       "5          Added  "
      ]
     },
     "execution_count": 56,
     "metadata": {},
     "output_type": "execute_result"
    }
   ],
   "source": [
    "riders"
   ]
  },
  {
   "cell_type": "markdown",
   "id": "fd78ae6a-642d-4321-8046-ba9dca5a84c3",
   "metadata": {},
   "source": [
    "Conversion Rider is automatically added.  You can convert your policy to any cash value life insurance policy during the 8th year.\n",
    "\n",
    "Minimum Indexed Benefit Rider is automatically added. You get this thing called the Indexed Termination Credit.\n",
    "\n",
    "Overloan Protection 3 Rider is automatically added. This guarantees the policy will not lapse.\n",
    "\n",
    "Accelerated Death Benefit Rider for Chronic and Terminal Illness (Premier Living Benefits Rider 2) is optional. Doesn't appear to be listed in the PDF.\n",
    "\n",
    "No Lapse Guarantee Rider (Short-Term No Lapse Guarantee) is automatically added. Your death benefit is guaranteed while this rider is in effect.\n",
    "\n",
    "Accelerated Death Benefit Rider for Terminal Illness (Terminal Illness Rider) is optional. Also doesn't seem to be listed in the PDF.\n"
   ]
  }
 ],
 "metadata": {
  "kernelspec": {
   "display_name": "f2022-s2023",
   "language": "python",
   "name": "f2022-s2023"
  },
  "language_info": {
   "codemirror_mode": {
    "name": "ipython",
    "version": 3
   },
   "file_extension": ".py",
   "mimetype": "text/x-python",
   "name": "python",
   "nbconvert_exporter": "python",
   "pygments_lexer": "ipython3",
   "version": "3.10.5"
  }
 },
 "nbformat": 4,
 "nbformat_minor": 5
}
